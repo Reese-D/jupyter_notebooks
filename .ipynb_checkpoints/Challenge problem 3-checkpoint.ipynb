{
 "cells": [
  {
   "cell_type": "markdown",
   "metadata": {},
   "source": [
    "# Challenge problem 3\n",
    "## Reese De Wind"
   ]
  },
  {
   "cell_type": "markdown",
   "metadata": {},
   "source": [
    "### --Functions--\n",
    "\n",
    "#### adj_matrix:\n",
    "This function works by first transforming the graph object to a dict_of_lists, which makes transforming it to an adj matrix quite simple. The function then loops over each object in the dictionary, creating a new blank list filled with 0's the same length as the number of key/value pairs in the dictionary. If nothing else were done at this point it would essentially create an adjacency matrix full of 0's, all that is left to do is add some 1's. Since the dictionary holds references to other keys the current node points to, the function simply fills in 1's for these references and leaves the nodes that aren't referenced as 0's. Finally it appends each of these lists as it loops into one final list."
   ]
  },
  {
   "cell_type": "code",
   "execution_count": 45,
   "metadata": {
    "collapsed": false
   },
   "outputs": [],
   "source": [
    "import networkx as nx\n",
    "import matplotlib.pyplot as plot"
   ]
  },
  {
   "cell_type": "code",
   "execution_count": 46,
   "metadata": {
    "collapsed": false
   },
   "outputs": [],
   "source": [
    "def adj_matrix(g):\n",
    "    graph = nx.to_dict_of_lists(g)\n",
    "    outerList = []\n",
    "    for i in range(len(graph)):\n",
    "        length = len(graph)\n",
    "        innerList = [0] * length\n",
    "        for node in graph[i]:\n",
    "            innerList[node] = 1\n",
    "        outerList.append(innerList)\n",
    "    return outerList"
   ]
  },
  {
   "cell_type": "markdown",
   "metadata": {},
   "source": [
    "# everything below this point can be ignored and is purely for testing purposes"
   ]
  },
  {
   "cell_type": "code",
   "execution_count": 43,
   "metadata": {
    "collapsed": false
   },
   "outputs": [
    {
     "data": {
      "text/plain": [
       "[[0, 1, 1, 1], [1, 0, 1, 1], [1, 1, 0, 1], [1, 1, 1, 0]]"
      ]
     },
     "execution_count": 43,
     "metadata": {},
     "output_type": "execute_result"
    }
   ],
   "source": [
    "k4 = nx.complete_graph(4)\n",
    "adj_matrix(k4)"
   ]
  },
  {
   "cell_type": "code",
   "execution_count": 44,
   "metadata": {
    "collapsed": false
   },
   "outputs": [
    {
     "data": {
      "text/plain": [
       "[[0, 1, 1, 1, 1, 1, 1, 1, 1, 1],\n",
       " [1, 0, 1, 1, 1, 1, 1, 1, 1, 1],\n",
       " [1, 1, 0, 1, 1, 1, 1, 1, 1, 1],\n",
       " [1, 1, 1, 0, 1, 1, 1, 1, 1, 1],\n",
       " [1, 1, 1, 1, 0, 1, 1, 1, 1, 1],\n",
       " [1, 1, 1, 1, 1, 0, 1, 1, 1, 1],\n",
       " [1, 1, 1, 1, 1, 1, 0, 1, 1, 1],\n",
       " [1, 1, 1, 1, 1, 1, 1, 0, 1, 1],\n",
       " [1, 1, 1, 1, 1, 1, 1, 1, 0, 1],\n",
       " [1, 1, 1, 1, 1, 1, 1, 1, 1, 0]]"
      ]
     },
     "execution_count": 44,
     "metadata": {},
     "output_type": "execute_result"
    }
   ],
   "source": [
    "k10 = nx.complete_graph(10)\n",
    "adj_matrix(k10)\n"
   ]
  },
  {
   "cell_type": "code",
   "execution_count": 41,
   "metadata": {
    "collapsed": false
   },
   "outputs": [
    {
     "data": {
      "text/plain": [
       "[[0, 0, 1, 1, 1, 1, 1],\n",
       " [0, 0, 1, 1, 1, 1, 1],\n",
       " [1, 1, 0, 0, 0, 0, 0],\n",
       " [1, 1, 0, 0, 0, 0, 0],\n",
       " [1, 1, 0, 0, 0, 0, 0],\n",
       " [1, 1, 0, 0, 0, 0, 0],\n",
       " [1, 1, 0, 0, 0, 0, 0]]"
      ]
     },
     "execution_count": 41,
     "metadata": {},
     "output_type": "execute_result"
    }
   ],
   "source": [
    "adj_matrix(nx.complete_bipartite_graph(2,5))"
   ]
  },
  {
   "cell_type": "code",
   "execution_count": 42,
   "metadata": {
    "collapsed": false
   },
   "outputs": [
    {
     "data": {
      "text/plain": [
       "[[0, 1, 0, 0, 0, 1],\n",
       " [1, 0, 1, 0, 0, 0],\n",
       " [0, 1, 0, 1, 0, 0],\n",
       " [0, 0, 1, 0, 1, 0],\n",
       " [0, 0, 0, 1, 0, 1],\n",
       " [1, 0, 0, 0, 1, 0]]"
      ]
     },
     "execution_count": 42,
     "metadata": {},
     "output_type": "execute_result"
    }
   ],
   "source": [
    "adj_matrix(nx.cycle_graph(6))"
   ]
  },
  {
   "cell_type": "code",
   "execution_count": null,
   "metadata": {
    "collapsed": true
   },
   "outputs": [],
   "source": []
  }
 ],
 "metadata": {
  "anaconda-cloud": {},
  "kernelspec": {
   "display_name": "Python [default]",
   "language": "python",
   "name": "python3"
  },
  "language_info": {
   "codemirror_mode": {
    "name": "ipython",
    "version": 3
   },
   "file_extension": ".py",
   "mimetype": "text/x-python",
   "name": "python",
   "nbconvert_exporter": "python",
   "pygments_lexer": "ipython3",
   "version": "3.5.2"
  }
 },
 "nbformat": 4,
 "nbformat_minor": 1
}
