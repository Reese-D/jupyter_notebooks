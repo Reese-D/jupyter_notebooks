{
 "cells": [
  {
   "cell_type": "markdown",
   "metadata": {},
   "source": [
    "# Challenge Problem 8"
   ]
  },
  {
   "cell_type": "code",
   "execution_count": 1,
   "metadata": {
    "collapsed": true
   },
   "outputs": [],
   "source": [
    "import networkx as nx\n",
    "import matplotlib.pyplot as plot"
   ]
  },
  {
   "cell_type": "markdown",
   "metadata": {},
   "source": [
    "#### Create the chemical dictionary\n",
    "each chemical is a key and the value corresponds to every other chemical that CAN be shipped simultaneously with it. It is the exact opposite dictionary described in the problem"
   ]
  },
  {
   "cell_type": "code",
   "execution_count": 2,
   "metadata": {
    "collapsed": true
   },
   "outputs": [],
   "source": [
    "chem_dict = {\n",
    "    1:[3,4,7,8],\n",
    "    2:[4,6,8],\n",
    "    3:[1,5,6,8],\n",
    "    4:[1,2,5],\n",
    "    5:[3,4],\n",
    "    6:[2,3,7],\n",
    "    7:[1,6],\n",
    "    8:[1,2,3]\n",
    "            }"
   ]
  },
  {
   "cell_type": "markdown",
   "metadata": {},
   "source": [
    "#### Reverse dictionary\n",
    "This returns the exact inverse, it was only really used for testing, using chem_dict on it returns the dictionary of all the chemicals linked to the chemicals they CANNOT be shipped with."
   ]
  },
  {
   "cell_type": "code",
   "execution_count": 3,
   "metadata": {
    "collapsed": false
   },
   "outputs": [],
   "source": [
    "def get_inverse_graph(dol):\n",
    "    k = nx.complete_graph(9);\n",
    "    return_dict = nx.to_dict_of_lists(k)\n",
    "    for key, value in dol.items():\n",
    "        return_dict[key].remove(0)\n",
    "        for chemical in value:\n",
    "            return_dict[key].remove(chemical)\n",
    "    del return_dict[0]\n",
    "    print(return_dict)\n",
    "    return return_dict"
   ]
  },
  {
   "cell_type": "markdown",
   "metadata": {},
   "source": [
    "## Visual\n",
    "Here's the chem_dict drawn out, each chemical is connected to other chemicals that can be shipped in the same crate without issue"
   ]
  },
  {
   "cell_type": "code",
   "execution_count": 4,
   "metadata": {
    "collapsed": false
   },
   "outputs": [
    {
     "data": {
      "image/png": "[encoded data removed]",
      "text/plain": [
       "<matplotlib.figure.Figure at 0x10d98aba8>"
      ]
     },
     "metadata": {},
     "output_type": "display_data"
    }
   ],
   "source": [
    "g = nx.from_dict_of_lists(chem_dict)\n",
    "nx.draw(g,with_labels=True)\n",
    "\n",
    "plot.show()"
   ]
  },
  {
   "cell_type": "markdown",
   "metadata": {},
   "source": [
    "## Approach\n",
    "My approach to solving this problem is to get a list of every single clique, take the biggest one and ship it in a crate, remove it from the graph, and then grab the next biggest clique and repeat until there are no more chemicals lefet to ship\n",
    "\n",
    "### Getting cliques\n",
    "Networkx provides a nice little function to get a list of the cliques within a graph, this will be leveraged soon"
   ]
  },
  {
   "cell_type": "code",
   "execution_count": 5,
   "metadata": {
    "collapsed": false
   },
   "outputs": [
    {
     "name": "stdout",
     "output_type": "stream",
     "text": [
      "[[1, 8, 3], [1, 4], [1, 7], [2, 8], [2, 4], [2, 6], [5, 3], [5, 4], [6, 3], [6, 7]]\n"
     ]
    }
   ],
   "source": [
    "clique = nx.find_cliques_recursive(g);\n",
    "print(list(clique))"
   ]
  },
  {
   "cell_type": "markdown",
   "metadata": {},
   "source": [
    "#### Get em\n",
    "this leverages the above function to get all the cliques, and reverse their order, so that largest cliques are last. I want largest last because I will be calling pop() on the list, which removes the last item."
   ]
  },
  {
   "cell_type": "code",
   "execution_count": 6,
   "metadata": {
    "collapsed": true
   },
   "outputs": [],
   "source": [
    "def dol_to_clique_list(dol):\n",
    "    cliques = list(nx.find_cliques(nx.from_dict_of_lists(dol)))\n",
    "    cliques = list(reversed(cliques))\n",
    "    return cliques"
   ]
  },
  {
   "cell_type": "markdown",
   "metadata": {},
   "source": [
    "#### Throw em out\n",
    "After we've got our chemical clique we need to remove it from the dictionary, this means deleting the key (with all its values) and the key from each value list of all the other chemicals, erase these nodes from existence."
   ]
  },
  {
   "cell_type": "code",
   "execution_count": 7,
   "metadata": {
    "collapsed": true
   },
   "outputs": [],
   "source": [
    "def remove_item_from_dict(item, dct):\n",
    "    del dct[item]\n",
    "    for key, values in dct.items():\n",
    "        if item in values:\n",
    "            dct[key].remove(item)"
   ]
  },
  {
   "cell_type": "markdown",
   "metadata": {},
   "source": [
    "#### Recurse\n",
    "remove the largest clique, add it to our list, and repeat with what remains"
   ]
  },
  {
   "cell_type": "code",
   "execution_count": 8,
   "metadata": {
    "collapsed": true
   },
   "outputs": [],
   "source": [
    "def do_solve(dol, return_val):\n",
    "    if not dol:\n",
    "        return return_val\n",
    "    clique_list = dol_to_clique_list(dol)\n",
    "    popped = clique_list.pop()\n",
    "    return_val.append(popped)\n",
    "    for item in popped:\n",
    "        remove_item_from_dict(item, dol) \n",
    "    return do_solve(dol, return_val)"
   ]
  },
  {
   "cell_type": "code",
   "execution_count": 9,
   "metadata": {
    "collapsed": true
   },
   "outputs": [],
   "source": [
    "def solve(dol):\n",
    "    return do_solve(dol.copy(), [])"
   ]
  },
  {
   "cell_type": "markdown",
   "metadata": {},
   "source": [
    "#### Result\n",
    "Now we can run the function on our chemical dictionary and get a list of each container and its contents that should be shipped together."
   ]
  },
  {
   "cell_type": "code",
   "execution_count": 10,
   "metadata": {
    "collapsed": false
   },
   "outputs": [
    {
     "name": "stdout",
     "output_type": "stream",
     "text": [
      "[[1, 8, 3], [2, 4], [5], [6, 7]]\n"
     ]
    }
   ],
   "source": [
    "print(solve(chem_dict))"
   ]
  }
 ],
 "metadata": {
  "anaconda-cloud": {},
  "kernelspec": {
   "display_name": "Python [default]",
   "language": "python",
   "name": "python3"
  },
  "language_info": {
   "codemirror_mode": {
    "name": "ipython",
    "version": 3
   },
   "file_extension": ".py",
   "mimetype": "text/x-python",
   "name": "python",
   "nbconvert_exporter": "python",
   "pygments_lexer": "ipython3",
   "version": "3.5.2"
  }
 },
 "nbformat": 4,
 "nbformat_minor": 1
}
