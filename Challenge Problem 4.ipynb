{
 "cells": [
  {
   "cell_type": "markdown",
   "metadata": {},
   "source": [
    "# Challenge Problem 4\n",
    "## Reese De Wind"
   ]
  },
  {
   "cell_type": "code",
   "execution_count": null,
   "metadata": {
    "collapsed": false
   },
   "outputs": [],
   "source": [
    "import warnings \n",
    "warnings.filterwarnings('ignore')\n",
    "import networkx as nx\n",
    "import matplotlib.pyplot as plt\n",
    "import selenium as s\n",
    "from selenium import webdriver\n",
    "from selenium.webdriver.common.keys import Keys\n",
    "#from selenium.remote import connect                                                                                                                          "
   ]
  },
  {
   "cell_type": "markdown",
   "metadata": {},
   "source": [
    "# Part 1\n",
    "\n",
    "#### 30 actors\n",
    "as you can see I accidently included 31 total, after running it I didn't want to re-run everything so I left it as is, however you could remove danny mcbride without affecting any of the other connections as he ends up being a loose node anyway."
   ]
  },
  {
   "cell_type": "code",
   "execution_count": null,
   "metadata": {
    "collapsed": true
   },
   "outputs": [],
   "source": [
    "actor_list = [\"Michael fassbender\", \"Christopher Waltz\", \"Robert De Niro\", \"Chris Pratt\",\"Zoe Saldana\", \"Sam Worthington\",\"John Noble\", \"Johnny Depp\", \"Leonardo Dicaprio\",\"Tom Hardy\"\n",
    "              , \"Robert De Niro\", \"Audrey Hepburn\",\"Natalie Portman\", \"Sharlto Copley\", \"Jason Cope\", \"Idris elba\", \"Dominic Monaghan\", \"Heath Ledger\",\"Christopher Walken\", \"jack nicholson\"\n",
    "              ,\"Edward Norton\",\"Sean Connery\", \"Simon Pegg\", \"Nick Frost\", \"Will Ferrell\", \"John Reilly\", \"Danny Mcbride\", \"James Franco\", \"Ryan Reynolds\", \"Mel Gibson\",\"Tom Hanks\"]"
   ]
  },
  {
   "cell_type": "code",
   "execution_count": 3,
   "metadata": {
    "collapsed": false
   },
   "outputs": [
    {
     "name": "stdout",
     "output_type": "stream",
     "text": [
      "31\n"
     ]
    }
   ],
   "source": [
    "print(len(actor_list))"
   ]
  },
  {
   "cell_type": "markdown",
   "metadata": {},
   "source": [
    "# Part 2 - creating the graph\n",
    "\n",
    "#### try it out yourself!\n",
    "If you want to test this out yourself you have to install two things, a chrome webdriver which can be found here https://sites.google.com/a/chromium.org/chromedriver/downloads and selenium so that the import in the first cell will work correctly with 'pip install selenium', or pip3 depending on what version of python you're using. \n",
    "\n",
    "If the chrome driver does not automatically install to the correct directory, you can point to it by adding this line to the top of the function. Or you can add it to your path.\n",
    "\n",
    "System.setProperty(\"webdriver.chrome.driver\", \"/path/to/chromedriver\");\n",
    "\n",
    "#### use the pre-created list\n",
    "if you can't run this or don't want to wait for it to go through 450 iterations (because the driver I used isn't headless it takes a while, it would be significantly faster without a gui.) I've pasted in the results of running the function below, so you can simply set saved_list directly to the printed dictionary.\n",
    "\n",
    "\n"
   ]
  },
  {
   "cell_type": "code",
   "execution_count": null,
   "metadata": {
    "collapsed": true
   },
   "outputs": [],
   "source": [
    "saved_list = {'Mel Gibson (I)': ['Heath Ledger', 'Will Ferrell (I)'], 'Jason Cope': ['Tom Hardy (I)', 'Sharlto Copley', 'Idris elba'], 'Audrey Hepburn (I)': ['Sean Connery'], 'Will Ferrell (I)': ['Chris Pratt (I)', 'Johnny Depp', 'Natalie Portman', 'Christopher Walken', 'James Franco', 'Ryan Reynolds (I)', 'Mel Gibson (I)'], 'Sam Worthington': ['Zoe Saldana', 'James Franco'], 'Edward Norton (I)': ['Robert De Niro', 'Robert De Niro', 'Natalie Portman', 'James Franco'], 'Chris Pratt (I)': ['Zoe Saldana', 'Will Ferrell (I)'], 'Idris elba': ['Michael fassbender', 'Zoe Saldana', 'Tom Hardy (I)', 'Natalie Portman', 'Jason Cope', 'Christopher Walken', 'Simon Pegg'], 'jack nicholson (I)': ['Robert De Niro', 'Leonardo Dicaprio', 'Robert De Niro', 'Natalie Portman'], 'Leonardo Dicaprio': ['Christopher Waltz', 'Robert De Niro', 'Zoe Saldana', 'Johnny Depp', 'Tom Hardy (I)', 'Robert De Niro', 'Christopher Walken', 'jack nicholson (I)', 'Tom Hanks'], 'Tom Hanks': ['Zoe Saldana', 'Leonardo Dicaprio', 'Christopher Walken'], 'Robert De Niro': ['Leonardo Dicaprio', 'Natalie Portman', 'Christopher Walken', 'jack nicholson (I)', 'Edward Norton (I)', 'Sean Connery', 'James Franco', 'Leonardo Dicaprio', 'Natalie Portman', 'Christopher Walken', 'jack nicholson (I)', 'Edward Norton (I)', 'Sean Connery', 'James Franco'], 'James Franco': ['Michael fassbender', 'Christopher Waltz', 'Robert De Niro', 'Zoe Saldana', 'Sam Worthington', 'Robert De Niro', 'Natalie Portman', 'Edward Norton (I)', 'Will Ferrell (I)'], 'Sean Connery': ['Robert De Niro', 'Robert De Niro', 'Audrey Hepburn (I)', 'Christopher Walken'], 'John Reilly (I)': [], 'Christopher Waltz': ['Michael fassbender', 'Leonardo Dicaprio', 'James Franco'], 'Christopher Walken': ['Robert De Niro', 'Johnny Depp', 'Leonardo Dicaprio', 'Robert De Niro', 'Idris elba', 'Sean Connery', 'Will Ferrell (I)', 'Tom Hanks'], 'Simon Pegg': ['Zoe Saldana', 'Tom Hardy (I)', 'Idris elba', 'Nick Frost (I)'], 'Tom Hardy (I)': ['Leonardo Dicaprio', 'Jason Cope', 'Idris elba', 'Simon Pegg'], 'Natalie Portman': ['Michael fassbender', 'Robert De Niro', 'Robert De Niro', 'Idris elba', 'jack nicholson (I)', 'Edward Norton (I)', 'Will Ferrell (I)', 'James Franco'], 'Johnny Depp': ['Zoe Saldana', 'Leonardo Dicaprio', 'Heath Ledger', 'Christopher Walken', 'Will Ferrell (I)'], 'Zoe Saldana': ['Chris Pratt (I)', 'Sam Worthington', 'Johnny Depp', 'Leonardo Dicaprio', 'Idris elba', 'Simon Pegg', 'James Franco', 'Tom Hanks'], 'Dominic Monaghan': ['John Noble (I)', 'Ryan Reynolds (I)'], 'Michael fassbender': ['Christopher Waltz', 'Natalie Portman', 'Idris elba', 'James Franco'], 'John Noble (I)': ['Dominic Monaghan'], 'Heath Ledger': ['Johnny Depp', 'Mel Gibson (I)'], 'Danny Mcbride (I)': [], 'Nick Frost (I)': ['Simon Pegg'], 'Sharlto Copley': ['Jason Cope'], 'Ryan Reynolds (I)': ['Dominic Monaghan', 'Will Ferrell (I)']}"
   ]
  },
  {
   "cell_type": "markdown",
   "metadata": {},
   "source": [
    "## what does this do?\n",
    "I've commented the code below fairly heavily if you want to walk through it line by line, but all it does is bring up a web browser and then read through the html behind it. It then inputs text where necessary and click all the right buttons. Once it gets to a page comparing two actors it simply checks how many actor spans exist in the html, if there are 2 then it must be actor -> movie -> actor, if there are more it will look something like actor -> movie -> actor -> movie -> actor etc. We can tell they're connected by simply counting the number of spans that exist.\n"
   ]
  },
  {
   "cell_type": "code",
   "execution_count": 56,
   "metadata": {
    "collapsed": false
   },
   "outputs": [],
   "source": [
    "\n",
    "\n",
    "def getBaconNumber(list):\n",
    "    dict_of_lists = {}\n",
    "    driver = webdriver.Chrome() #get our webdriver\n",
    "    driver.get(\"https://oracleofbacon.org/movielinks.php\") # get the html of the oracle of bacon site\n",
    "    index1 = 0\n",
    "    index2 = 0\n",
    "    total = len(list)\n",
    "    for i in list:\n",
    "        dict_of_lists[i] = [] #create a dictionary with each actor as a key and an empty list as their value\n",
    "    print(\"Starting...\")\n",
    "    while(index1 < total):\n",
    "        while(index2 < total):\n",
    "            person1 = list[index1]\n",
    "            person2 = list[index2]\n",
    "            if index2 == index1: #don't match actors with themselves!\n",
    "                index2 += 1\n",
    "                continue\n",
    "            first = driver.find_element_by_css_selector(\"#searchbox > input[name='a']\") #use a css selector to find box1\n",
    "            second = driver.find_element_by_css_selector(\"#searchbox > input[name='b']\") #box 2\n",
    "            submit_button = driver.find_element_by_css_selector('input[value=\"Find link\"]')# the 'find link' button\n",
    "            #clear out whatever is in the actor1 and 2 boxes\n",
    "            first.clear()\n",
    "            second.clear()\n",
    "            #fill the boxes back in with the two currently selected actors\n",
    "            first.send_keys(person1)\n",
    "            second.send_keys(person2)\n",
    "            #hit the submit button\n",
    "            submit_button.send_keys(Keys.RETURN)\n",
    "            try:\n",
    "                #this checks for a specific dom element, if it exists that means we're on the actor not found page\n",
    "                actor_not_found = driver.find_element_by_css_selector(\"div#main > i\").text\n",
    "                #if the previous call often throws the exception that's caught below, if an actor wasn't found let us know\n",
    "                print(\"Made it here!\")\n",
    "                #add an (I) to the actors name if they're not found, usually this will fix the problem\n",
    "                if actor_not_found == person1:\n",
    "                    list[index1] = person1 + \" (I)\"\n",
    "                if actor_not_found == person2:\n",
    "                    list[index2] = person2 + \" (I)\"\n",
    "                continue\n",
    "                #if they still aren't found after the (I) it will infinitely loop adding (I)'s to their name\n",
    "                #this is easily correctable but I didn't get around to doing it, as all of mine are spelled correctly\n",
    "            except s.common.exceptions.NoSuchElementException:\n",
    "                pass\n",
    "            actors = driver.find_elements_by_css_selector(\"span[class='actor']\"); #find the number of actors on the page\n",
    "            if len(actors) == 2: #if there are exactly 2 actors they're linked by 1 movie, if there are more they're not\n",
    "                dict_of_lists[person1].append(person2)\n",
    "            index2 += 1\n",
    "        index1 += 1\n",
    "        index2 = 0\n",
    "    driver.close()\n",
    "    print(\"Finished!\")\n",
    "    print(dict_of_lists)\n",
    "    return nx.from_dict_of_lists(dict_of_lists)\n",
    "\n"
   ]
  },
  {
   "cell_type": "markdown",
   "metadata": {},
   "source": [
    "#### you can run it manually here"
   ]
  },
  {
   "cell_type": "code",
   "execution_count": 8,
   "metadata": {
    "collapsed": false
   },
   "outputs": [
    {
     "name": "stdout",
     "output_type": "stream",
     "text": [
      "Starting...\n",
      "Finished!\n",
      "{'Mel Gibson (I)': ['Heath Ledger', 'Will Ferrell (I)'], 'Jason Cope': ['Tom Hardy (I)', 'Sharlto Copley', 'Idris elba'], 'Audrey Hepburn (I)': ['Sean Connery'], 'Will Ferrell (I)': ['Chris Pratt (I)', 'Johnny Depp', 'Natalie Portman', 'Christopher Walken', 'James Franco', 'Ryan Reynolds (I)', 'Mel Gibson (I)'], 'Sam Worthington': ['Zoe Saldana', 'James Franco'], 'Edward Norton (I)': ['Robert De Niro', 'Robert De Niro', 'Natalie Portman', 'James Franco'], 'Chris Pratt (I)': ['Zoe Saldana', 'Will Ferrell (I)'], 'Idris elba': ['Michael fassbender', 'Zoe Saldana', 'Tom Hardy (I)', 'Natalie Portman', 'Jason Cope', 'Christopher Walken', 'Simon Pegg'], 'jack nicholson (I)': ['Robert De Niro', 'Leonardo Dicaprio', 'Robert De Niro', 'Natalie Portman'], 'Leonardo Dicaprio': ['Christopher Waltz', 'Robert De Niro', 'Zoe Saldana', 'Johnny Depp', 'Tom Hardy (I)', 'Robert De Niro', 'Christopher Walken', 'jack nicholson (I)', 'Tom Hanks'], 'Tom Hanks': ['Zoe Saldana', 'Leonardo Dicaprio', 'Christopher Walken'], 'Robert De Niro': ['Leonardo Dicaprio', 'Natalie Portman', 'Christopher Walken', 'jack nicholson (I)', 'Edward Norton (I)', 'Sean Connery', 'James Franco', 'Leonardo Dicaprio', 'Natalie Portman', 'Christopher Walken', 'jack nicholson (I)', 'Edward Norton (I)', 'Sean Connery', 'James Franco'], 'James Franco': ['Michael fassbender', 'Christopher Waltz', 'Robert De Niro', 'Zoe Saldana', 'Sam Worthington', 'Robert De Niro', 'Natalie Portman', 'Edward Norton (I)', 'Will Ferrell (I)'], 'Sean Connery': ['Robert De Niro', 'Robert De Niro', 'Audrey Hepburn (I)', 'Christopher Walken'], 'John Reilly (I)': [], 'Christopher Waltz': ['Michael fassbender', 'Leonardo Dicaprio', 'James Franco'], 'Christopher Walken': ['Robert De Niro', 'Johnny Depp', 'Leonardo Dicaprio', 'Robert De Niro', 'Idris elba', 'Sean Connery', 'Will Ferrell (I)', 'Tom Hanks'], 'Simon Pegg': ['Zoe Saldana', 'Tom Hardy (I)', 'Idris elba', 'Nick Frost (I)'], 'Tom Hardy (I)': ['Leonardo Dicaprio', 'Jason Cope', 'Idris elba', 'Simon Pegg'], 'Natalie Portman': ['Michael fassbender', 'Robert De Niro', 'Robert De Niro', 'Idris elba', 'jack nicholson (I)', 'Edward Norton (I)', 'Will Ferrell (I)', 'James Franco'], 'Johnny Depp': ['Zoe Saldana', 'Leonardo Dicaprio', 'Heath Ledger', 'Christopher Walken', 'Will Ferrell (I)'], 'Zoe Saldana': ['Chris Pratt (I)', 'Sam Worthington', 'Johnny Depp', 'Leonardo Dicaprio', 'Idris elba', 'Simon Pegg', 'James Franco', 'Tom Hanks'], 'Dominic Monaghan': ['John Noble (I)', 'Ryan Reynolds (I)'], 'Michael fassbender': ['Christopher Waltz', 'Natalie Portman', 'Idris elba', 'James Franco'], 'John Noble (I)': ['Dominic Monaghan'], 'Heath Ledger': ['Johnny Depp', 'Mel Gibson (I)'], 'Danny Mcbride (I)': [], 'Nick Frost (I)': ['Simon Pegg'], 'Sharlto Copley': ['Jason Cope'], 'Ryan Reynolds (I)': ['Dominic Monaghan', 'Will Ferrell (I)']}\n"
     ]
    }
   ],
   "source": [
    "g = getBaconNumber(actor_list)\n"
   ]
  },
  {
   "cell_type": "markdown",
   "metadata": {},
   "source": [
    "# Part 3 - Visualization"
   ]
  },
  {
   "cell_type": "code",
   "execution_count": null,
   "metadata": {
    "collapsed": false
   },
   "outputs": [],
   "source": [
    "plt.figure(num=None, figsize = (15,15), dpi=1600);\n",
    "nx.draw_circular(nx.from_dict_of_lists(saved_list),with_labels=True,node_color=\"#FFFFFF\",node_size=500, linewidths=0, alpha=1, width=0.75)\n",
    "plt.show()"
   ]
  },
  {
   "cell_type": "code",
   "execution_count": 10,
   "metadata": {
    "collapsed": false
   },
   "outputs": [
    {
     "name": "stdout",
     "output_type": "stream",
     "text": [
      "{'Jason Cope': ['Tom Hardy (I)', 'Sharlto Copley', 'Idris elba'], 'Audrey Hepburn (I)': ['Sean Connery'], 'Will Ferrell (I)': ['Chris Pratt (I)', 'Johnny Depp', 'Natalie Portman', 'Christopher Walken', 'James Franco', 'Ryan Reynolds (I)', 'Mel Gibson (I)'], 'Sam Worthington': ['Zoe Saldana', 'James Franco'], 'Edward Norton (I)': ['Robert De Niro', 'Robert De Niro', 'Natalie Portman', 'James Franco'], 'Chris Pratt (I)': ['Zoe Saldana', 'Will Ferrell (I)'], 'Idris elba': ['Michael fassbender', 'Zoe Saldana', 'Tom Hardy (I)', 'Natalie Portman', 'Jason Cope', 'Christopher Walken', 'Simon Pegg'], 'jack nicholson (I)': ['Robert De Niro', 'Leonardo Dicaprio', 'Robert De Niro', 'Natalie Portman'], 'Leonardo Dicaprio': ['Christopher Waltz', 'Robert De Niro', 'Zoe Saldana', 'Johnny Depp', 'Tom Hardy (I)', 'Robert De Niro', 'Christopher Walken', 'jack nicholson (I)', 'Tom Hanks'], 'Tom Hanks': ['Zoe Saldana', 'Leonardo Dicaprio', 'Christopher Walken'], 'Robert De Niro': ['Leonardo Dicaprio', 'Natalie Portman', 'Christopher Walken', 'jack nicholson (I)', 'Edward Norton (I)', 'Sean Connery', 'James Franco', 'Leonardo Dicaprio', 'Natalie Portman', 'Christopher Walken', 'jack nicholson (I)', 'Edward Norton (I)', 'Sean Connery', 'James Franco'], 'Mel Gibson (I)': ['Heath Ledger', 'Will Ferrell (I)'], 'James Franco': ['Michael fassbender', 'Christopher Waltz', 'Robert De Niro', 'Zoe Saldana', 'Sam Worthington', 'Robert De Niro', 'Natalie Portman', 'Edward Norton (I)', 'Will Ferrell (I)'], 'Sean Connery': ['Robert De Niro', 'Robert De Niro', 'Audrey Hepburn (I)', 'Christopher Walken'], 'John Reilly (I)': [], 'Christopher Waltz': ['Michael fassbender', 'Leonardo Dicaprio', 'James Franco'], 'Christopher Walken': ['Robert De Niro', 'Johnny Depp', 'Leonardo Dicaprio', 'Robert De Niro', 'Idris elba', 'Sean Connery', 'Will Ferrell (I)', 'Tom Hanks'], 'Simon Pegg': ['Zoe Saldana', 'Tom Hardy (I)', 'Idris elba', 'Nick Frost (I)'], 'Tom Hardy (I)': ['Leonardo Dicaprio', 'Jason Cope', 'Idris elba', 'Simon Pegg'], 'Natalie Portman': ['Michael fassbender', 'Robert De Niro', 'Robert De Niro', 'Idris elba', 'jack nicholson (I)', 'Edward Norton (I)', 'Will Ferrell (I)', 'James Franco'], 'Johnny Depp': ['Zoe Saldana', 'Leonardo Dicaprio', 'Heath Ledger', 'Christopher Walken', 'Will Ferrell (I)'], 'Zoe Saldana': ['Chris Pratt (I)', 'Sam Worthington', 'Johnny Depp', 'Leonardo Dicaprio', 'Idris elba', 'Simon Pegg', 'James Franco', 'Tom Hanks'], 'Dominic Monaghan': ['John Noble (I)', 'Ryan Reynolds (I)'], 'Sharlto Copley': ['Jason Cope'], 'John Noble (I)': ['Dominic Monaghan'], 'Heath Ledger': ['Johnny Depp', 'Mel Gibson (I)'], 'Danny Mcbride (I)': [], 'Nick Frost (I)': ['Simon Pegg'], 'Michael fassbender': ['Christopher Waltz', 'Natalie Portman', 'Idris elba', 'James Franco'], 'Ryan Reynolds (I)': ['Dominic Monaghan', 'Will Ferrell (I)']}\n"
     ]
    }
   ],
   "source": [
    "print(saved_list)"
   ]
  },
  {
   "cell_type": "markdown",
   "metadata": {},
   "source": [
    "# Part 4\n",
    "\n",
    "#### Danny Mcbride\n",
    "No connections, Nv = 0, Kv = 0\n",
    "\n",
    "Defaults to 0 since (nv == 0 || nv == 1) is true\n",
    "\n",
    "#### Christopher Waltz\n",
    "he's been with michael fassbender, leonardo dicaprio, and james franco\n",
    "so Kv = 3\n",
    "franco and fassbender are connected to eachother\n",
    "so Nv = 1\n",
    "\n",
    "2 * 1 / 3 * (3-1)\n",
    "= 2 / 6\n",
    "= 1 / 3\n",
    "\n",
    "#### Heath Ledger\n",
    "connected to both johnny depp and mel gibson\n",
    "so Kv = 2\n",
    "however there are no connections between any of his neighbors to eachother\n",
    "so Nv = 0\n",
    "\n",
    "2 * 0 / 2 * (2 - 1)\n",
    "= 0 / 2\n",
    "= 0\n",
    "\n",
    "#### Jason Cope\n",
    "connected to Sharlto Copley, Tom Hardy, and Idris Elba\n",
    "so Kv = 3\n",
    "Idris elba is connected to tom hard\n",
    "So Nv = 1\n",
    "\n",
    "2 * 1 / 3 * (3-1)\n",
    "= 2 / 6\n",
    "= 1 / 3\n",
    "\n",
    "#### Nick Frost\n",
    "Nick frost is only connected to Simon Pegg\n",
    "so Kv = 1\n",
    "Since kv is one Nv cannot have any value\n",
    "so Nv = 0\n",
    "\n",
    "Nv == 1 therefore the clustering coefficient for nick frost is 0"
   ]
  },
  {
   "cell_type": "markdown",
   "metadata": {},
   "source": [
    "# Part 5 - individual clustering coefficients"
   ]
  },
  {
   "cell_type": "code",
   "execution_count": 58,
   "metadata": {
    "collapsed": false
   },
   "outputs": [
    {
     "name": "stdout",
     "output_type": "stream",
     "text": [
      "Jason Cope: 0.3333333333333333\n",
      "Audrey Hepburn (I): 0.0\n",
      "Will Ferrell (I): 0.09523809523809523\n",
      "Sam Worthington: 1.0\n",
      "Edward Norton (I): 1.0\n",
      "Chris Pratt (I): 0.0\n",
      "Idris elba: 0.19047619047619047\n",
      "jack nicholson (I): 0.6666666666666666\n",
      "Leonardo Dicaprio: 0.21428571428571427\n",
      "Tom Hanks: 0.6666666666666666\n",
      "Robert De Niro: 0.3333333333333333\n",
      "Mel Gibson (I): 0.0\n",
      "James Franco: 0.25\n",
      "Sean Connery: 0.3333333333333333\n",
      "John Reilly (I): 0.0\n",
      "Christopher Waltz: 0.3333333333333333\n",
      "Christopher Walken: 0.23809523809523808\n",
      "Simon Pegg: 0.3333333333333333\n",
      "Tom Hardy (I): 0.3333333333333333\n",
      "Natalie Portman: 0.3333333333333333\n",
      "Johnny Depp: 0.3\n",
      "Zoe Saldana: 0.14285714285714285\n",
      "Dominic Monaghan: 0.0\n",
      "Sharlto Copley: 0.0\n",
      "John Noble (I): 0.0\n",
      "Heath Ledger: 0.0\n",
      "Danny Mcbride (I): 0.0\n",
      "Nick Frost (I): 0.0\n",
      "Michael fassbender: 0.5\n",
      "Ryan Reynolds (I): 0.0\n"
     ]
    }
   ],
   "source": [
    "for key in saved_list:\n",
    "    print(str(key) + \": \" + str(nx.clustering(nx.from_dict_of_lists(saved_list), key)))"
   ]
  },
  {
   "cell_type": "markdown",
   "metadata": {},
   "source": [
    "# Part 6 - overall clustering coefficient"
   ]
  },
  {
   "cell_type": "code",
   "execution_count": 59,
   "metadata": {
    "collapsed": false
   },
   "outputs": [
    {
     "name": "stdout",
     "output_type": "stream",
     "text": [
      "0.25325396825396823\n"
     ]
    }
   ],
   "source": [
    "counter = 0\n",
    "total = 0\n",
    "for key in saved_list:\n",
    "    total += nx.clustering(nx.from_dict_of_lists(saved_list), key)\n",
    "    counter += 1\n",
    "print(total/counter)"
   ]
  },
  {
   "cell_type": "markdown",
   "metadata": {},
   "source": [
    "# Part 7 - central actors\n",
    "\n",
    "as you can see in the previous cells, two individuals had a clustering coefficient of 1, Sam worthington & Edward Norton. Within their own little click they are the most central."
   ]
  },
  {
   "cell_type": "code",
   "execution_count": null,
   "metadata": {
    "collapsed": true
   },
   "outputs": [],
   "source": []
  }
 ],
 "metadata": {
  "anaconda-cloud": {},
  "kernelspec": {
   "display_name": "Python 3",
   "language": "python",
   "name": "python3"
  },
  "language_info": {
   "codemirror_mode": {
    "name": "ipython",
    "version": 3
   },
   "file_extension": ".py",
   "mimetype": "text/x-python",
   "name": "python",
   "nbconvert_exporter": "python",
   "pygments_lexer": "ipython3",
   "version": "3.6.0"
  }
 },
 "nbformat": 4,
 "nbformat_minor": 1
}
