{
 "cells": [
  {
   "cell_type": "markdown",
   "metadata": {},
   "source": [
    "# Challenge Problem 2\n",
    "## Reese De Wind"
   ]
  },
  {
   "cell_type": "markdown",
   "metadata": {},
   "source": [
    "## Functions\n",
    "\n",
    "### equal_when_replaced\n",
    "This function checks if the two parameters, word1 and word2, can be equal by replacing a single letter. This function makes the assumption that the words are the same length. This function simply loops over both words and compares characters, if only one character is different between the two then a replacement would make them equal and we can return true. equal_when_replaced also returns the number of differences so that it can be used in the equal_when_transposed function as described below.\n",
    "\n",
    "### equal_when_transposed\n",
    "This function checks if the two parameters, word1 and word2, can be equal swapping any two letters in the first word. This function originally calls the create_hash_for_word function described below, in order to determine whether two words are anagrams. If the words are anagrams equal_when_replaced is called to compare them. Since this function returns the number of differing letters, if only 2 letters are different and the words contain all the same letters, then we know that two letters have been swapped and we can return true.\n",
    "\n",
    "#### create_hash_for_word\n",
    "This is a helper function to the equal_when_transposed function. This function makes a dictionary of all the letters in the word, and for each key, or letter, the number of times it appears is used as the value.\n",
    "\n",
    "### word_graph\n",
    "This function iterates over every word in the dictionary, and compares it to every other word in the dictionary. since it compares indexes the word in the first loop will never be compared to itself or recompared to a word that was already compared to it. This function then checks if the words are 'equal' given the context of the problem, if so the similar word is added as a value to the original word in the dictionary. In the end a dictionary of lists is created so that each node is mapped to all similar nodes, and then network x is called to convert it into graph format before being returned."
   ]
  },
  {
   "cell_type": "code",
   "execution_count": 3,
   "metadata": {
    "collapsed": true
   },
   "outputs": [],
   "source": [
    "import networkx as nx\n",
    "import matplotlib.pyplot as plot"
   ]
  },
  {
   "cell_type": "code",
   "execution_count": 4,
   "metadata": {
    "collapsed": false
   },
   "outputs": [],
   "source": [
    "def equal_when_replaced(word1, word2):\n",
    "    counter = 0\n",
    "    for i in range(len(word1)):\n",
    "        if word1[i] != word2[i]:\n",
    "            counter += 1\n",
    "    if counter <= 1 :\n",
    "        return True, counter\n",
    "    return False, counter"
   ]
  },
  {
   "cell_type": "code",
   "execution_count": 5,
   "metadata": {
    "collapsed": false
   },
   "outputs": [],
   "source": [
    "def create_hash_for_word(word):\n",
    "    wordHash = {}\n",
    "    for c in word:\n",
    "        if c in wordHash:\n",
    "            wordHash[c] += 1\n",
    "        else:\n",
    "            wordHash[c] = 1\n",
    "    return wordHash\n",
    "\n",
    "def equal_when_transposed(word1, word2):\n",
    "    word1Hash = create_hash_for_word(word1)\n",
    "    word2Hash = create_hash_for_word(word2)\n",
    "    if word1Hash == word2Hash:\n",
    "        throwAway, replacements = equal_when_replaced(word1, word2)\n",
    "        if replacements == 2:\n",
    "            return True\n",
    "    return False"
   ]
  },
  {
   "cell_type": "code",
   "execution_count": 6,
   "metadata": {
    "collapsed": true
   },
   "outputs": [],
   "source": [
    "def equal_when_transposed_or_replaced(word1, word2):\n",
    "    if(equal_when_transposed(word1, word2) or equal_when_replaced(word1,word2)[0]):\n",
    "        return True\n",
    "    return False"
   ]
  },
  {
   "cell_type": "code",
   "execution_count": 11,
   "metadata": {
    "collapsed": true
   },
   "outputs": [],
   "source": [
    "def word_graph(word_list):\n",
    "    dict_of_lists = {}\n",
    "    for index1, word1 in enumerate(word_list):\n",
    "        for index2, word2 in enumerate(word_list):\n",
    "            if index1 >= index2:\n",
    "                continue\n",
    "            if equal_when_transposed_or_replaced(word1, word2):\n",
    "                if word1 in dict_of_lists:\n",
    "                    dict_of_lists[word1].append(word2)\n",
    "                else:\n",
    "                    dict_of_lists[word1] = [word2]\n",
    "    return nx.from_dict_of_lists(dict_of_lists)"
   ]
  },
  {
   "cell_type": "markdown",
   "metadata": {},
   "source": [
    "# Everything below this line are tests and can be ignored"
   ]
  },
  {
   "cell_type": "code",
   "execution_count": 8,
   "metadata": {
    "collapsed": false
   },
   "outputs": [
    {
     "name": "stdout",
     "output_type": "stream",
     "text": [
      "r: this, thin:\t\t (True, 1)\n",
      "r: that plat:\t\t False\n",
      "r: taht that:\t\t False\n",
      "r: timothy timotty:\t True\n",
      "t: taht that:\t\t True\n",
      "t: cat tca:\t\t False\n",
      "t: acme itme:\t\t False\n",
      "t: tack kact:\t\t True\n"
     ]
    }
   ],
   "source": [
    "temp = equal_when_replaced(\"this\", \"thin\")\n",
    "print(\"r: this, thin:\\t\\t\", temp)\n",
    "temp, throw = equal_when_replaced(\"that\", \"plat\")\n",
    "print(\"r: that\", \"plat:\\t\\t\", temp)\n",
    "temp, throw = equal_when_replaced(\"taht\", \"that\")\n",
    "print(\"r: taht\", \"that:\\t\\t\",temp)\n",
    "temp, throw = equal_when_replaced(\"timothy\", \"timotty\")\n",
    "print(\"r: timothy\", \"timotty:\\t\", temp)\n",
    "temp = equal_when_transposed(\"taht\", \"that\")\n",
    "print(\"t: taht\", \"that:\\t\\t\", temp)\n",
    "temp = equal_when_transposed(\"cat\", \"tca\")\n",
    "print(\"t: cat\", \"tca:\\t\\t\", temp)\n",
    "temp = equal_when_transposed(\"acme\",\"itme\")\n",
    "print(\"t: acme\",\"itme:\\t\\t\", temp)\n",
    "temp = equal_when_transposed(\"tack\",\"kact\")\n",
    "print(\"t: tack\",\"kact:\\t\\t\", temp)"
   ]
  },
  {
   "cell_type": "code",
   "execution_count": 9,
   "metadata": {
    "collapsed": false
   },
   "outputs": [
    {
     "data": {
      "text/plain": [
       "{'acme': ['atme'],\n",
       " 'atme': ['acme', 'tame', 'itme'],\n",
       " 'item': ['itme'],\n",
       " 'itme': ['item', 'time', 'atme'],\n",
       " 'mite': ['time'],\n",
       " 'tame': ['tome', 'time', 'atme'],\n",
       " 'time': ['tame', 'tome', 'mite', 'itme'],\n",
       " 'tome': ['tame', 'time']}"
      ]
     },
     "execution_count": 9,
     "metadata": {},
     "output_type": "execute_result"
    }
   ],
   "source": [
    "words = ['time', 'tame', 'tome', 'mite', 'acme', 'atme', 'itme', 'item']\n",
    "g = word_graph(words)\n",
    "nx.to_dict_of_lists(g)"
   ]
  },
  {
   "cell_type": "code",
   "execution_count": 10,
   "metadata": {
    "collapsed": false
   },
   "outputs": [
    {
     "data": {
      "image/png": "[encoded data removed]",
      "text/plain": [
       "<matplotlib.figure.Figure at 0x10d9ad160>"
      ]
     },
     "metadata": {},
     "output_type": "display_data"
    }
   ],
   "source": [
    "nx.draw_circular(g, with_labels=True, node_color=\"white\")\n",
    "plot.show()"
   ]
  },
  {
   "cell_type": "code",
   "execution_count": null,
   "metadata": {
    "collapsed": true
   },
   "outputs": [],
   "source": []
  }
 ],
 "metadata": {
  "anaconda-cloud": {},
  "kernelspec": {
   "display_name": "Python [default]",
   "language": "python",
   "name": "python3"
  },
  "language_info": {
   "codemirror_mode": {
    "name": "ipython",
    "version": 3
   },
   "file_extension": ".py",
   "mimetype": "text/x-python",
   "name": "python",
   "nbconvert_exporter": "python",
   "pygments_lexer": "ipython3",
   "version": "3.5.2"
  }
 },
 "nbformat": 4,
 "nbformat_minor": 1
}
