{
 "cells": [
  {
   "cell_type": "markdown",
   "metadata": {},
   "source": [
    "# Challenge Problem 1 (problem 3)"
   ]
  },
  {
   "cell_type": "markdown",
   "metadata": {},
   "source": [
    "#### Given\n",
    "$a_0=1,a_1 = 2$\n",
    "\n",
    "#### need to prove\n",
    "for all $n\\geq2,a_n = 2a_{n-1} - a_{n-2}+2^n$\n",
    "\n",
    "prove $a(n) = 2^{n+2}-3n-3$"
   ]
  },
  {
   "cell_type": "markdown",
   "metadata": {},
   "source": [
    "## Proposition:\n",
    "$a(n) = 2^{n+2}-3n-3, a_0=1, a_1=2$"
   ]
  },
  {
   "cell_type": "markdown",
   "metadata": {},
   "source": [
    "## Proving for $a_0=1,a_1 = 2$\n",
    "$a(0)=2^{2+0}-3*0-3$\n",
    "\n",
    "$=4-0-3$\n",
    "\n",
    "$=1$\n",
    "    \n",
    "\n",
    "\n",
    "$a(1)=2^{2+1}-3*1-3$\n",
    "\n",
    "$=2^3-3-3$\n",
    "\n",
    "$=8-6$\n",
    "\n",
    "$=2$"
   ]
  },
  {
   "cell_type": "markdown",
   "metadata": {},
   "source": [
    "## Assuming true for n = k\n",
    "therefore $a(k)=2^{k+2}-3k-3$"
   ]
  },
  {
   "cell_type": "markdown",
   "metadata": {},
   "source": [
    "## solving for a(k+1)\n",
    "$a(k+1)=2ak-a_{k-1}+2^{k+1}$\n",
    "\n",
    "substiting a(k)\n",
    "\n",
    "$=2(2^{k+2}-3k-3)-a_{k-1}+2^{k+1}$\n",
    "\n",
    "$=2^{k+3}-6k-6-a_{k-1}+2^{k+1}$\n",
    "\n",
    "substiting a(k-1)\n",
    "\n",
    "$=2^{k+3}-6k-6-(2^{k+1}-3(k-1)-3)+2^{k+1}$\n",
    "\n",
    "$=2^{k+3}-6k-6-2^{k+1}+3(k-1)+3+2^{k+1}$\n",
    "\n",
    "canceling\n",
    "\n",
    "$=2^{k+3}-6k-3+3(k-1)$\n",
    "\n",
    "$=2^{k+3}-6k-3+3k-3$\n",
    "\n",
    "$=2^{k+3}-3k-6$\n",
    "\n",
    "$=2^{k+3}-3(k+1)-3$\n",
    "\n"
   ]
  },
  {
   "cell_type": "markdown",
   "metadata": {},
   "source": [
    "## which proves\n",
    "\n",
    "$a(k+1)=2^{k+3}-3(k+1)-3$"
   ]
  },
  {
   "cell_type": "code",
   "execution_count": null,
   "metadata": {
    "collapsed": true
   },
   "outputs": [],
   "source": []
  }
 ],
 "metadata": {
  "kernelspec": {
   "display_name": "Python 3",
   "language": "python",
   "name": "python3"
  },
  "language_info": {
   "codemirror_mode": {
    "name": "ipython",
    "version": 3
   },
   "file_extension": ".py",
   "mimetype": "text/x-python",
   "name": "python",
   "nbconvert_exporter": "python",
   "pygments_lexer": "ipython3",
   "version": "3.6.0"
  }
 },
 "nbformat": 4,
 "nbformat_minor": 2
}
